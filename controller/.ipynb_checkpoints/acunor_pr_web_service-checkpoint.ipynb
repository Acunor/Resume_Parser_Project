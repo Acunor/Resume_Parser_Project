{
 "cells": [
  {
   "cell_type": "code",
   "execution_count": 1,
   "id": "8363a384",
   "metadata": {},
   "outputs": [
    {
     "name": "stdout",
     "output_type": "stream",
     "text": [
      " * Serving Flask app \"__main__\" (lazy loading)\n",
      " * Environment: production\n",
      "   WARNING: This is a development server. Do not use it in a production deployment.\n",
      "   Use a production WSGI server instead.\n",
      " * Debug mode: off\n"
     ]
    },
    {
     "name": "stderr",
     "output_type": "stream",
     "text": [
      " * Running on http://127.0.0.1:5000/ (Press CTRL+C to quit)\n",
      "127.0.0.1 - - [03/Feb/2022 03:10:14] \"\u001b[37mGET /fetch_employee_details HTTP/1.1\u001b[0m\" 200 -\n",
      "127.0.0.1 - - [03/Feb/2022 03:10:14] \"\u001b[33mGET /favicon.ico HTTP/1.1\u001b[0m\" 404 -\n",
      "127.0.0.1 - - [03/Feb/2022 03:12:35] \"\u001b[37mGET /fetch_employee_details HTTP/1.1\u001b[0m\" 200 -\n"
     ]
    }
   ],
   "source": [
    "from flask import Flask, render_template\n",
    "import pandas as pd\n",
    "from IPython.display import HTML\n",
    "\n",
    "import sys\n",
    "sys.path.append(r\"C:\\Users\\admin\\Projects\\ResumeParser\\data_provider\")\n",
    "from acunor_rp_dataprovider import CouchdbProvider\n",
    "\n",
    "\n",
    "from acunor_rp_filefetcher import FileFetcher\n",
    "\n",
    "app=Flask(__name__)\n",
    "\n",
    "@app.route('/fetch_employee_details',methods=['GET'])\n",
    "def fetch_employee_details():\n",
    "    data=False\n",
    "    cprovider=CouchdbProvider()\n",
    "    data=cprovider.retrive_data() \n",
    "    result=data.to_html()    \n",
    "    return render_template('featcheroutput.html', data=result)\n",
    "\n",
    "@app.route('/fetch_save_employee_details',methods=['POST'])\n",
    "def fetch_save_employee_details():\n",
    "    filefetcher=FileFetcher()\n",
    "    myfile=r'C:\\Users\\admin\\Desktop\\resumes\\datascience\\Dice_Resume_CV_Andrey_Uuemaa.pdf'\n",
    "    filefetcher.fetch_and_parse_file(myfile)\n",
    "    \n",
    "    \n",
    "    \n",
    "if __name__=='__main__':\n",
    "    app.run()"
   ]
  },
  {
   "cell_type": "code",
   "execution_count": null,
   "id": "e81af47f",
   "metadata": {},
   "outputs": [],
   "source": []
  }
 ],
 "metadata": {
  "kernelspec": {
   "display_name": "Python 3",
   "language": "python",
   "name": "python3"
  },
  "language_info": {
   "codemirror_mode": {
    "name": "ipython",
    "version": 3
   },
   "file_extension": ".py",
   "mimetype": "text/x-python",
   "name": "python",
   "nbconvert_exporter": "python",
   "pygments_lexer": "ipython3",
   "version": "3.8.8"
  }
 },
 "nbformat": 4,
 "nbformat_minor": 5
}
